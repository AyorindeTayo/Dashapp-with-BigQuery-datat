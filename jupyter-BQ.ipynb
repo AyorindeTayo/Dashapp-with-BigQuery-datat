{
 "cells": [
  {
   "cell_type": "code",
   "execution_count": null,
   "metadata": {},
   "outputs": [
    {
     "name": "stdout",
     "output_type": "stream",
     "text": [
      "Dash is running on http://127.0.0.1:8050/\n",
      "\n",
      " * Serving Flask app '__main__'\n",
      " * Debug mode: off\n"
     ]
    },
    {
     "name": "stderr",
     "output_type": "stream",
     "text": [
      "WARNING: This is a development server. Do not use it in a production deployment. Use a production WSGI server instead.\n",
      " * Running on http://127.0.0.1:8050\n",
      "Press CTRL+C to quit\n",
      "127.0.0.1 - - [14/Nov/2022 17:33:32] \"GET / HTTP/1.1\" 200 -\n",
      "127.0.0.1 - - [14/Nov/2022 17:33:32] \"GET /_dash-component-suites/dash/deps/polyfill@7.v2_7_0m1668189163.12.1.min.js HTTP/1.1\" 200 -\n",
      "127.0.0.1 - - [14/Nov/2022 17:33:32] \"GET /_dash-component-suites/dash/deps/react@16.v2_7_0m1668189163.14.0.min.js HTTP/1.1\" 200 -\n",
      "127.0.0.1 - - [14/Nov/2022 17:33:32] \"GET /_dash-component-suites/dash/deps/react-dom@16.v2_7_0m1668189163.14.0.min.js HTTP/1.1\" 200 -\n",
      "127.0.0.1 - - [14/Nov/2022 17:33:32] \"GET /_dash-component-suites/dash/deps/prop-types@15.v2_7_0m1668189163.8.1.min.js HTTP/1.1\" 200 -\n",
      "127.0.0.1 - - [14/Nov/2022 17:33:32] \"GET /_dash-component-suites/dash/dash-renderer/build/dash_renderer.v2_7_0m1668189163.min.js HTTP/1.1\" 200 -\n",
      "127.0.0.1 - - [14/Nov/2022 17:33:32] \"GET /_dash-component-suites/dash/dcc/dash_core_components.v2_7_0m1668189163.js HTTP/1.1\" 200 -\n",
      "127.0.0.1 - - [14/Nov/2022 17:33:32] \"GET /_dash-component-suites/dash/dcc/dash_core_components-shared.v2_7_0m1668189163.js HTTP/1.1\" 200 -\n",
      "127.0.0.1 - - [14/Nov/2022 17:33:32] \"GET /_dash-component-suites/dash/html/dash_html_components.v2_0_6m1668189163.min.js HTTP/1.1\" 200 -\n",
      "127.0.0.1 - - [14/Nov/2022 17:33:32] \"GET /_dash-component-suites/dash/dash_table/bundle.v5_2_0m1668189163.js HTTP/1.1\" 200 -\n",
      "127.0.0.1 - - [14/Nov/2022 17:33:33] \"GET /_dash-dependencies HTTP/1.1\" 200 -\n",
      "127.0.0.1 - - [14/Nov/2022 17:33:33] \"GET /_dash-layout HTTP/1.1\" 200 -\n",
      "127.0.0.1 - - [14/Nov/2022 17:33:33] \"GET /_dash-component-suites/dash/dcc/async-datepicker.js HTTP/1.1\" 200 -\n"
     ]
    },
    {
     "name": "stdout",
     "output_type": "stream",
     "text": [
      "30\n",
      "2015-03-01\n",
      "2015-12-29\n",
      "1000\n",
      "        boroname   diameter\n",
      "0          Bronx  35.191223\n",
      "1       Brooklyn  34.122581\n",
      "2      Manhattan  36.230769\n",
      "3         Queens  35.977654\n",
      "4  Staten Island  37.180851\n"
     ]
    },
    {
     "name": "stderr",
     "output_type": "stream",
     "text": [
      "127.0.0.1 - - [14/Nov/2022 17:33:41] \"POST /_dash-update-component HTTP/1.1\" 200 -\n",
      "127.0.0.1 - - [14/Nov/2022 17:33:42] \"GET /_dash-component-suites/dash/dcc/async-graph.js HTTP/1.1\" 200 -\n",
      "127.0.0.1 - - [14/Nov/2022 17:33:42] \"GET /_dash-component-suites/dash/dcc/async-plotlyjs.js HTTP/1.1\" 200 -\n"
     ]
    },
    {
     "name": "stdout",
     "output_type": "stream",
     "text": [
      "30\n",
      "2015-03-11\n",
      "2015-03-20\n",
      "30\n",
      "2015-03-11\n",
      "2015-03-20\n",
      "30\n",
      "2015-03-11\n",
      "2015-03-20\n",
      "30\n",
      "2015-03-11\n",
      "2015-03-20\n",
      "30\n",
      "2015-03-11\n",
      "2015-03-20\n"
     ]
    },
    {
     "name": "stderr",
     "output_type": "stream",
     "text": [
      "127.0.0.1 - - [14/Nov/2022 17:37:55] \"POST /_dash-update-component HTTP/1.1\" 200 -\n"
     ]
    },
    {
     "name": "stdout",
     "output_type": "stream",
     "text": [
      "0\n",
      "Empty DataFrame\n",
      "Columns: [boroname, diameter]\n",
      "Index: []\n"
     ]
    },
    {
     "name": "stderr",
     "output_type": "stream",
     "text": [
      "127.0.0.1 - - [14/Nov/2022 17:37:57] \"POST /_dash-update-component HTTP/1.1\" 200 -\n"
     ]
    },
    {
     "name": "stdout",
     "output_type": "stream",
     "text": [
      "0\n",
      "Empty DataFrame\n",
      "Columns: [boroname, diameter]\n",
      "Index: []\n",
      "0\n",
      "Empty DataFrame\n",
      "Columns: [boroname, diameter]\n",
      "Index: []\n"
     ]
    },
    {
     "name": "stderr",
     "output_type": "stream",
     "text": [
      "127.0.0.1 - - [14/Nov/2022 17:37:58] \"POST /_dash-update-component HTTP/1.1\" 200 -\n",
      "127.0.0.1 - - [14/Nov/2022 17:37:58] \"POST /_dash-update-component HTTP/1.1\" 200 -\n"
     ]
    },
    {
     "name": "stdout",
     "output_type": "stream",
     "text": [
      "0\n",
      "Empty DataFrame\n",
      "Columns: [boroname, diameter]\n",
      "Index: []\n"
     ]
    },
    {
     "name": "stderr",
     "output_type": "stream",
     "text": [
      "127.0.0.1 - - [14/Nov/2022 17:37:59] \"POST /_dash-update-component HTTP/1.1\" 200 -\n"
     ]
    },
    {
     "name": "stdout",
     "output_type": "stream",
     "text": [
      "0\n",
      "Empty DataFrame\n",
      "Columns: [boroname, diameter]\n",
      "Index: []\n"
     ]
    },
    {
     "name": "stderr",
     "output_type": "stream",
     "text": [
      "127.0.0.1 - - [14/Nov/2022 17:38:14] \"GET / HTTP/1.1\" 200 -\n",
      "127.0.0.1 - - [14/Nov/2022 17:38:15] \"GET /_dash-layout HTTP/1.1\" 200 -\n",
      "127.0.0.1 - - [14/Nov/2022 17:38:15] \"GET /_dash-dependencies HTTP/1.1\" 200 -\n",
      "127.0.0.1 - - [14/Nov/2022 17:38:15] \"GET /_dash-component-suites/dash/dcc/async-datepicker.js HTTP/1.1\" 304 -\n",
      "127.0.0.1 - - [14/Nov/2022 17:38:15] \"GET /_favicon.ico?v=2.7.0 HTTP/1.1\" 200 -\n"
     ]
    },
    {
     "name": "stdout",
     "output_type": "stream",
     "text": [
      "30\n",
      "2015-03-01\n",
      "2015-12-29\n"
     ]
    },
    {
     "name": "stderr",
     "output_type": "stream",
     "text": [
      "127.0.0.1 - - [14/Nov/2022 17:38:19] \"POST /_dash-update-component HTTP/1.1\" 200 -\n",
      "127.0.0.1 - - [14/Nov/2022 17:38:19] \""
     ]
    },
    {
     "name": "stdout",
     "output_type": "stream",
     "text": [
      "1000\n",
      "        boroname   diameter\n",
      "0          Bronx  35.191223\n",
      "1       Brooklyn  34.122581\n",
      "2      Manhattan  36.230769\n",
      "3         Queens  35.977654\n",
      "4  Staten Island  37.180851\n"
     ]
    },
    {
     "name": "stderr",
     "output_type": "stream",
     "text": [
      "GET /_dash-component-suites/dash/dcc/async-graph.js HTTP/1.1\" 304 -\n",
      "127.0.0.1 - - [14/Nov/2022 17:38:19] \"GET /_dash-component-suites/dash/dcc/async-plotlyjs.js HTTP/1.1\" 304 -\n"
     ]
    },
    {
     "name": "stdout",
     "output_type": "stream",
     "text": [
      "30\n",
      "2015-03-17\n",
      "2015-03-19\n"
     ]
    },
    {
     "name": "stderr",
     "output_type": "stream",
     "text": [
      "127.0.0.1 - - [14/Nov/2022 17:38:44] \"POST /_dash-update-component HTTP/1.1\" 200 -\n"
     ]
    },
    {
     "name": "stdout",
     "output_type": "stream",
     "text": [
      "0\n",
      "Empty DataFrame\n",
      "Columns: [boroname, diameter]\n",
      "Index: []\n",
      "30\n",
      "2015-03-17\n",
      "2015-03-19\n",
      "0\n",
      "Empty DataFrame\n",
      "Columns: [boroname, diameter]\n",
      "Index: []\n"
     ]
    },
    {
     "name": "stderr",
     "output_type": "stream",
     "text": [
      "127.0.0.1 - - [14/Nov/2022 17:38:48] \"POST /_dash-update-component HTTP/1.1\" 200 -\n"
     ]
    },
    {
     "name": "stdout",
     "output_type": "stream",
     "text": [
      "30\n",
      "2015-03-02\n",
      "2015-03-19\n"
     ]
    },
    {
     "name": "stderr",
     "output_type": "stream",
     "text": [
      "127.0.0.1 - - [14/Nov/2022 17:40:20] \"POST /_dash-update-component HTTP/1.1\" 200 -\n"
     ]
    },
    {
     "name": "stdout",
     "output_type": "stream",
     "text": [
      "0\n",
      "Empty DataFrame\n",
      "Columns: [boroname, diameter]\n",
      "Index: []\n"
     ]
    },
    {
     "name": "stderr",
     "output_type": "stream",
     "text": [
      "127.0.0.1 - - [14/Nov/2022 17:40:53] \"GET / HTTP/1.1\" 200 -\n",
      "127.0.0.1 - - [14/Nov/2022 17:40:53] \"GET /_dash-layout HTTP/1.1\" 200 -\n",
      "127.0.0.1 - - [14/Nov/2022 17:40:53] \"GET /_dash-dependencies HTTP/1.1\" 200 -\n",
      "127.0.0.1 - - [14/Nov/2022 17:40:53] \"GET /_dash-component-suites/dash/dcc/async-datepicker.js HTTP/1.1\" 304 -\n"
     ]
    },
    {
     "name": "stdout",
     "output_type": "stream",
     "text": [
      "30\n",
      "2015-03-01\n",
      "2015-12-29\n"
     ]
    },
    {
     "name": "stderr",
     "output_type": "stream",
     "text": [
      "127.0.0.1 - - [14/Nov/2022 17:40:57] \"POST /_dash-update-component HTTP/1.1\" 200 -\n",
      "127.0.0.1 - - [14/Nov/2022 17:40:57] \"GET /_dash-component-suites/dash/dcc/async-graph.js HTTP/1.1\" 304 -\n",
      "127.0.0.1 - - [14/Nov/2022 17:40:57] \"GET /_dash-component-suites/dash/dcc/async-plotlyjs.js HTTP/1.1\" 304 -\n"
     ]
    },
    {
     "name": "stdout",
     "output_type": "stream",
     "text": [
      "1000\n",
      "        boroname   diameter\n",
      "0          Bronx  35.191223\n",
      "1       Brooklyn  34.122581\n",
      "2      Manhattan  36.230769\n",
      "3         Queens  35.977654\n",
      "4  Staten Island  37.180851\n"
     ]
    }
   ],
   "source": [
    "\n",
    "import dash\n",
    "from dash import dcc\n",
    "from dash import html\n",
    "from dash.dependencies import Output, Input, State\n",
    "from datetime import date\n",
    "\n",
    "import plotly.express as px\n",
    "import pandas as pd\n",
    "from google.oauth2 import service_account  # pip install google-auth\n",
    "import pandas_gbq  # pip install pandas-gbq\n",
    "\n",
    "credentials = service_account.Credentials.from_service_account_file('C:/Users/Ayorinde/Desktop/my-first/assets/nth-hybrid-368516-acca1c7e4022.json')\n",
    "\n",
    "\n",
    "project_id = 'nth-hybrid-368516' # make sure to change this with your own project ID\n",
    "\n",
    "app = dash.Dash(__name__)\n",
    "\n",
    "app.layout = html.Div([\n",
    "    html.H1(\"New York City and its Beautiful Trees\", style={'textAlign':'center'}),\n",
    "    html.Div(id='graph-content'),\n",
    "    html.Div(\n",
    "        dcc.Input(id='tree-diameter', placeholder=\"Insert number for diameter\",\n",
    "                  value=30, type='number'),\n",
    "    ),\n",
    "    html.Div(\n",
    "        dcc.DatePickerRange(id='date-point',\n",
    "                            min_date_allowed=date(2015, 3, 1),\n",
    "                            max_date_allowed=date(2016, 4, 29),\n",
    "                            start_date=date(2015, 3, 1),\n",
    "                            end_date=date(2015, 12, 29)\n",
    "                            ),\n",
    "    ),\n",
    "    html.Button(id='enter', children=['Submit'])\n",
    "])\n",
    "\n",
    "\n",
    "@app.callback(\n",
    "    Output('graph-content', 'children'),\n",
    "    [Input('enter','n_clicks')],\n",
    "    [State('tree-diameter', 'value'),\n",
    "    State('date-point', 'start_date'),\n",
    "    State('date-point', 'end_date')]\n",
    ")\n",
    "def create_graph(n, treediameter, startdate, enddate):\n",
    "    print(treediameter)\n",
    "    print(startdate)\n",
    "    print(enddate)\n",
    "    # I recommend running the SQL in Good Cloud to make sure it works\n",
    "    # before running it here in your Dash App.\n",
    "    df_sql = f\"\"\"SELECT\n",
    "    created_at,\n",
    "    boroname,\n",
    "    tree_dbh as diameter,\n",
    "    spc_common as type\n",
    "    FROM `bigquery-public-data.new_york_trees.tree_census_2015`\n",
    "    WHERE created_at < '{enddate}'\n",
    "    AND created_at > '{startdate}'\n",
    "    AND tree_dbh > {treediameter}\n",
    "    ORDER BY created_at DESC\n",
    "    LIMIT 1000\n",
    "    \"\"\"\n",
    "\n",
    "    df = pd.read_gbq(df_sql, project_id=project_id, dialect='standard', credentials=credentials)\n",
    "    print(len(df))\n",
    "    #df.to_csv(\"first_sample.csv\")\n",
    "    dff = df.groupby('boroname')[['diameter']].mean()\n",
    "    dff.reset_index(inplace=True)\n",
    "    print(dff.head(10))\n",
    "\n",
    "    fig = px.bar(dff, x='boroname', y='diameter')\n",
    "    return dcc.Graph(figure=fig)\n",
    "\n",
    "\n",
    "\n",
    "if __name__=='__main__':\n",
    "    app.run_server(debug=False)"
   ]
  },
  {
   "cell_type": "code",
   "execution_count": null,
   "metadata": {},
   "outputs": [],
   "source": []
  },
  {
   "cell_type": "code",
   "execution_count": null,
   "metadata": {},
   "outputs": [],
   "source": []
  }
 ],
 "metadata": {
  "kernelspec": {
   "display_name": "Python 3 (ipykernel)",
   "language": "python",
   "name": "python3"
  },
  "language_info": {
   "codemirror_mode": {
    "name": "ipython",
    "version": 3
   },
   "file_extension": ".py",
   "mimetype": "text/x-python",
   "name": "python",
   "nbconvert_exporter": "python",
   "pygments_lexer": "ipython3",
   "version": "3.9.12"
  },
  "vscode": {
   "interpreter": {
    "hash": "73a3c440f391b58e273d448739472ae5ace54ae8867f616e3e51660367916a10"
   }
  }
 },
 "nbformat": 4,
 "nbformat_minor": 4
}
